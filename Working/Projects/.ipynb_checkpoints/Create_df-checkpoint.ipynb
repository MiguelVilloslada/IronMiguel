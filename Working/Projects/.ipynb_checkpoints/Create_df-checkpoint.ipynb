{
 "cells": [
  {
   "cell_type": "code",
   "execution_count": 2,
   "metadata": {},
   "outputs": [],
   "source": [
    "def billboard():\n",
    "    # import libraries\n",
    "    import pandas as pd\n",
    "    import requests\n",
    "    from bs4 import BeautifulSoup\n",
    "    from tqdm.notebook import tqdm\n",
    "    # get the website url\n",
    "    url = 'https://www.billboard.com/charts/hot-100'\n",
    "    # run request on url\n",
    "    response = requests.get(url, headers = {\"Accept-Language\" : \"en-US\"})\n",
    "    # make the soup\n",
    "    soup = BeautifulSoup(response.content,'html.parser')\n",
    "    \n",
    "    # assemble all the information creating lists\n",
    "    rank_position=[]\n",
    "    song_title=[]\n",
    "    song_author=[]\n",
    "\n",
    "    len_song=len(soup.select('h3.c-title.a-no-trucate'))\n",
    "    len_song_check=len(soup.select('span.c-label.a-no-trucate.a-font-primary-s'))\n",
    "    # loop over the songs and authors\n",
    "    for i in tqdm(range(len_song)):\n",
    "        rank_position.append(i+1)\n",
    "        song_title.append(soup.select('h3.c-title.a-no-trucate')[i].get_text(strip = True))\n",
    "        song_author.append(soup.select('span.c-label.a-no-trucate.a-font-primary-s')[i].get_text(strip = True))\n",
    "    # create a clean df of this information\n",
    "    df = pd.DataFrame({'position': rank_position,\n",
    "                             'song':song_title,\n",
    "                             'author':song_author})\n",
    "    df = df.applymap(lambda s:s.lower() if type(s) == str else s)\n",
    "    return (df)"
   ]
  },
  {
   "cell_type": "code",
   "execution_count": 3,
   "metadata": {},
   "outputs": [
    {
     "data": {
      "application/vnd.jupyter.widget-view+json": {
       "model_id": "3ce73128bdcf4dfc8c0885392cddfab6",
       "version_major": 2,
       "version_minor": 0
      },
      "text/plain": [
       "  0%|          | 0/100 [00:00<?, ?it/s]"
      ]
     },
     "metadata": {},
     "output_type": "display_data"
    }
   ],
   "source": [
    "df=billboard()"
   ]
  },
  {
   "cell_type": "code",
   "execution_count": 5,
   "metadata": {},
   "outputs": [],
   "source": [
    "df.to_csv('billboard.csv')"
   ]
  },
  {
   "cell_type": "code",
   "execution_count": null,
   "metadata": {},
   "outputs": [],
   "source": []
  }
 ],
 "metadata": {
  "kernelspec": {
   "display_name": "Python 3 (ipykernel)",
   "language": "python",
   "name": "python3"
  },
  "language_info": {
   "codemirror_mode": {
    "name": "ipython",
    "version": 3
   },
   "file_extension": ".py",
   "mimetype": "text/x-python",
   "name": "python",
   "nbconvert_exporter": "python",
   "pygments_lexer": "ipython3",
   "version": "3.9.12"
  }
 },
 "nbformat": 4,
 "nbformat_minor": 4
}

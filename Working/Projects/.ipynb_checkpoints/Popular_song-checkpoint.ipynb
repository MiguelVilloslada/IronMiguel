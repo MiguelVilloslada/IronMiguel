{
 "cells": [
  {
   "cell_type": "code",
   "execution_count": 16,
   "metadata": {},
   "outputs": [],
   "source": [
    "def popular_song():\n",
    "    import pandas as pd\n",
    "    df=pd.read_csv('billboard.csv') # get the df 100 song Billboard\n",
    "    import random\n",
    "    song=input('enter your song ').lower()\n",
    "    artist=input('enter your artist ').lower()\n",
    "    if len(song)==0 and len(artist)==0:\n",
    "        print('no input, please try again! ')\n",
    "    elif song in df['song'].to_list():\n",
    "        print('your song is on the TOP 100! ')\n",
    "    elif artist in df['author'].to_list():\n",
    "        print('your artist is on the TOP 100!')\n",
    "    else:\n",
    "        print('your song is not popular! Recommendation: ', random.choice(df['song']))\n",
    "        print('your artis is not popular! Recommendation: ', random.choice(df['author']))"
   ]
  },
  {
   "cell_type": "code",
   "execution_count": 19,
   "metadata": {},
   "outputs": [
    {
     "name": "stdout",
     "output_type": "stream",
     "text": [
      "enter your song \n",
      "enter your artist harry styles\n",
      "your artist is on the TOP 100!\n"
     ]
    }
   ],
   "source": [
    "popular_song()"
   ]
  },
  {
   "cell_type": "code",
   "execution_count": null,
   "metadata": {},
   "outputs": [],
   "source": []
  }
 ],
 "metadata": {
  "kernelspec": {
   "display_name": "Python 3 (ipykernel)",
   "language": "python",
   "name": "python3"
  },
  "language_info": {
   "codemirror_mode": {
    "name": "ipython",
    "version": 3
   },
   "file_extension": ".py",
   "mimetype": "text/x-python",
   "name": "python",
   "nbconvert_exporter": "python",
   "pygments_lexer": "ipython3",
   "version": "3.9.12"
  }
 },
 "nbformat": 4,
 "nbformat_minor": 4
}
